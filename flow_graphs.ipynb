{
 "cells": [
  {
   "cell_type": "code",
   "execution_count": 42,
   "id": "0b4ef57d",
   "metadata": {},
   "outputs": [],
   "source": [
    "import pandas as pd"
   ]
  },
  {
   "cell_type": "code",
   "execution_count": 43,
   "id": "81e0ceed",
   "metadata": {},
   "outputs": [],
   "source": [
    "def get_flow_dict(filename, attribute):\n",
    "    df = pd.read_csv(filename)\n",
    "    flow_dict = {}\n",
    "    for index, row in df.iterrows(): \n",
    "        src_mac = df.loc[index,\"source_mac\"]\n",
    "        flow_volume = float(df.loc[index,attribute])\n",
    "        if src_mac not in flow_dict:\n",
    "            flow_dict[src_mac] = 0\n",
    "        flow_dict[src_mac] += flow_volume\n",
    "    with open(\"devicelist.txt\") as f:\n",
    "        target_macs = [line.rstrip().lower() for line in f]\n",
    "    device_map = {}\n",
    "    for mac in target_macs:\n",
    "        device_mac = mac.split(\"-\")[0]\n",
    "        device_name = mac.split(\"-\")[1]\n",
    "        device_map[device_mac] = device_name\n",
    "        \n",
    "    new_flow_dict = {}\n",
    "    for src_mac in flow_dict:\n",
    "        if src_mac not in device_map:\n",
    "            continue\n",
    "        new_flow_dict[device_map[src_mac]] = flow_dict[src_mac]\n",
    "    \n",
    "    print (new_flow_dict) \n",
    "    return new_flow_dict"
   ]
  },
  {
   "cell_type": "code",
   "execution_count": 44,
   "id": "378c129f",
   "metadata": {},
   "outputs": [
    {
     "name": "stdout",
     "output_type": "stream",
     "text": [
      "{'altobeam': 0.0174098718320919}\n",
      "{'altobeam': 3762.0}\n",
      "{'altobeam': 631.825443983078}\n"
     ]
    }
   ],
   "source": [
    "filename = \"sample2.csv\"\n",
    "flow_rate = get_flow_dict(filename, \"flow_rate\")\n",
    "flow_volume = get_flow_dict(filename, \"flow_volume\")\n",
    "flow_duration = get_flow_dict(filename, \"flow_duration\")"
   ]
  },
  {
   "cell_type": "code",
   "execution_count": null,
   "id": "ea072e80",
   "metadata": {},
   "outputs": [],
   "source": []
  },
  {
   "cell_type": "code",
   "execution_count": null,
   "id": "3da33c84",
   "metadata": {},
   "outputs": [],
   "source": []
  }
 ],
 "metadata": {
  "kernelspec": {
   "display_name": "Python 3 (ipykernel)",
   "language": "python",
   "name": "python3"
  },
  "language_info": {
   "codemirror_mode": {
    "name": "ipython",
    "version": 3
   },
   "file_extension": ".py",
   "mimetype": "text/x-python",
   "name": "python",
   "nbconvert_exporter": "python",
   "pygments_lexer": "ipython3",
   "version": "3.9.7"
  }
 },
 "nbformat": 4,
 "nbformat_minor": 5
}
